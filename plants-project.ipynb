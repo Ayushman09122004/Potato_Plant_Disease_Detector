{
 "cells": [
  {
   "cell_type": "code",
   "execution_count": null,
   "metadata": {
    "execution": {
     "iopub.execute_input": "2024-06-25T16:35:37.179638Z",
     "iopub.status.busy": "2024-06-25T16:35:37.179271Z",
     "iopub.status.idle": "2024-06-25T16:35:37.184796Z",
     "shell.execute_reply": "2024-06-25T16:35:37.183781Z",
     "shell.execute_reply.started": "2024-06-25T16:35:37.179606Z"
    },
    "id": "__lMQC0sOAur"
   },
   "outputs": [],
   "source": [
    "import pandas as pd\n",
    "import numpy as np\n",
    "import tensorflow as tf\n",
    "import matplotlib.pyplot as plt\n",
    "from tensorflow.keras import layers"
   ]
  },
  {
   "cell_type": "code",
   "execution_count": null,
   "metadata": {
    "execution": {
     "iopub.execute_input": "2024-06-25T16:35:37.186808Z",
     "iopub.status.busy": "2024-06-25T16:35:37.186508Z",
     "iopub.status.idle": "2024-06-25T16:35:38.745832Z",
     "shell.execute_reply": "2024-06-25T16:35:38.744926Z",
     "shell.execute_reply.started": "2024-06-25T16:35:37.186784Z"
    },
    "id": "KF0DzUNURSLI",
    "outputId": "b82567b3-deef-4f6a-dd40-7dd7896d1624"
   },
   "outputs": [],
   "source": [
    "dir=r\"/kaggle/input/plant-village\"\n",
    "dataset=tf.keras.preprocessing.image_dataset_from_directory(dir,shuffle=True,batch_size=32)\n",
    "#batchsize taklen as 32"
   ]
  },
  {
   "cell_type": "code",
   "execution_count": null,
   "metadata": {
    "execution": {
     "iopub.execute_input": "2024-06-25T16:35:38.747414Z",
     "iopub.status.busy": "2024-06-25T16:35:38.747073Z",
     "iopub.status.idle": "2024-06-25T16:35:38.751894Z",
     "shell.execute_reply": "2024-06-25T16:35:38.750886Z",
     "shell.execute_reply.started": "2024-06-25T16:35:38.747380Z"
    },
    "id": "EzOuPK93RnxX"
   },
   "outputs": [],
   "source": [
    "class_names=dataset.class_names\n",
    "\n",
    "data=dataset"
   ]
  },
  {
   "cell_type": "code",
   "execution_count": null,
   "metadata": {
    "execution": {
     "iopub.execute_input": "2024-06-25T16:35:38.754969Z",
     "iopub.status.busy": "2024-06-25T16:35:38.754532Z",
     "iopub.status.idle": "2024-06-25T16:35:38.792994Z",
     "shell.execute_reply": "2024-06-25T16:35:38.792176Z",
     "shell.execute_reply.started": "2024-06-25T16:35:38.754938Z"
    },
    "id": "Ieyb1MPZRszv",
    "outputId": "79888b0a-a075-41f0-ccaa-baf344837b49"
   },
   "outputs": [],
   "source": [
    "for image_batch,label_batch in data.take(1):\n",
    "    print(image_batch.shape)\n",
    "    print(label_batch.numpy())"
   ]
  },
  {
   "cell_type": "code",
   "execution_count": null,
   "metadata": {
    "execution": {
     "iopub.execute_input": "2024-06-25T16:35:38.794821Z",
     "iopub.status.busy": "2024-06-25T16:35:38.794400Z",
     "iopub.status.idle": "2024-06-25T16:35:40.074615Z",
     "shell.execute_reply": "2024-06-25T16:35:40.073705Z",
     "shell.execute_reply.started": "2024-06-25T16:35:38.794788Z"
    },
    "id": "zhowCAgKRv5Y",
    "outputId": "be5542ea-c1d2-4999-bf41-5f04c5705b36"
   },
   "outputs": [],
   "source": [
    "#if you want to print the first image\n",
    "for image_batch,label_batch in data.take(1):\n",
    "    for i in range (5) :\n",
    "        plt.imshow(image_batch[i].numpy().astype(\"uint8\"))\n",
    "        plt.xlabel(class_names[label_batch.numpy()[i]])\n",
    "        plt.show()\n"
   ]
  },
  {
   "cell_type": "code",
   "execution_count": null,
   "metadata": {
    "execution": {
     "iopub.execute_input": "2024-06-25T16:35:40.076171Z",
     "iopub.status.busy": "2024-06-25T16:35:40.075865Z",
     "iopub.status.idle": "2024-06-25T16:35:40.440998Z",
     "shell.execute_reply": "2024-06-25T16:35:40.440110Z",
     "shell.execute_reply.started": "2024-06-25T16:35:40.076144Z"
    },
    "id": "DthLqQ6CRxKo",
    "outputId": "b09a6d4d-1bd4-43c9-8c9d-fb579b7689c8"
   },
   "outputs": [],
   "source": [
    "#imp do this for an rgb image\n",
    "for image_batch,label_batch in data.take(1):\n",
    "    plt.imshow(image_batch[4].numpy().astype(\"uint8\"))#take this for an rgb image\n",
    "    plt.xlabel(class_names[label_batch.numpy()[4]])"
   ]
  },
  {
   "cell_type": "code",
   "execution_count": null,
   "metadata": {
    "execution": {
     "iopub.execute_input": "2024-06-25T16:35:40.442487Z",
     "iopub.status.busy": "2024-06-25T16:35:40.442142Z",
     "iopub.status.idle": "2024-06-25T16:35:40.457204Z",
     "shell.execute_reply": "2024-06-25T16:35:40.456274Z",
     "shell.execute_reply.started": "2024-06-25T16:35:40.442453Z"
    },
    "id": "d-nyTi-FR2Pz",
    "outputId": "90764de7-ebfe-4c8b-f1c5-62959023d162"
   },
   "outputs": [],
   "source": [
    "train=data.take(int(.8*len(data)))\n",
    "valid=data.skip(int(.8*len(data)))\n",
    "test=valid.skip(int(.1*len(data)))\n",
    "valid=valid.take(int(.1*len(data)))\n",
    "print(len(train))\n",
    "print(len(test))\n",
    "print(len(valid))"
   ]
  },
  {
   "cell_type": "code",
   "execution_count": null,
   "metadata": {
    "execution": {
     "iopub.execute_input": "2024-06-25T16:35:40.458354Z",
     "iopub.status.busy": "2024-06-25T16:35:40.458124Z",
     "iopub.status.idle": "2024-06-25T16:35:40.474675Z",
     "shell.execute_reply": "2024-06-25T16:35:40.474035Z",
     "shell.execute_reply.started": "2024-06-25T16:35:40.458333Z"
    },
    "id": "c8E8rF6ISUdV"
   },
   "outputs": [],
   "source": [
    "# cache will keep the image in memory and increase performanc\n",
    "#this whole code is to increase the performance\n",
    "train=train.cache().shuffle(1000).prefetch(tf.data.AUTOTUNE)\n",
    "test=test.cache().shuffle(1000).prefetch(tf.data.AUTOTUNE)\n",
    "valid=valid.cache().shuffle(1000).prefetch(tf.data.AUTOTUNE)"
   ]
  },
  {
   "cell_type": "code",
   "execution_count": null,
   "metadata": {
    "execution": {
     "iopub.execute_input": "2024-06-25T16:35:40.475842Z",
     "iopub.status.busy": "2024-06-25T16:35:40.475612Z",
     "iopub.status.idle": "2024-06-25T16:35:40.492476Z",
     "shell.execute_reply": "2024-06-25T16:35:40.491801Z",
     "shell.execute_reply.started": "2024-06-25T16:35:40.475821Z"
    },
    "id": "w3hssDOjSWHF"
   },
   "outputs": [],
   "source": [
    "resize_rescale=tf.keras.Sequential([\n",
    "    layers.Rescaling(1/255),\n",
    "    layers.Resizing(256,256),\n",
    "])\n",
    "from tensorflow.keras import layers\n",
    "\n",
    "# Augmentation pipeline for the emotion detector dataset\n",
    "augment = tf.keras.Sequential([\n",
    "  \n",
    "    layers.RandomFlip(mode='horizontal'),  # Randomly flip inputs horizontally\n",
    "    layers.RandomRotation(0.2),  # Randomly rotate inputs by up to 20 degrees\n",
    "    layers.RandomZoom(height_factor=0.2, width_factor=0.2)  # Randomly zoom images\n",
    "])\n"
   ]
  },
  {
   "cell_type": "code",
   "execution_count": null,
   "metadata": {
    "execution": {
     "iopub.execute_input": "2024-06-25T16:35:40.495358Z",
     "iopub.status.busy": "2024-06-25T16:35:40.495105Z",
     "iopub.status.idle": "2024-06-25T16:35:40.514987Z",
     "shell.execute_reply": "2024-06-25T16:35:40.514062Z",
     "shell.execute_reply.started": "2024-06-25T16:35:40.495336Z"
    },
    "id": "lIU96XBGSXHD"
   },
   "outputs": [],
   "source": [
    "model=tf.keras.models.Sequential ([\n",
    "    resize_rescale,\n",
    "    augment,\n",
    "    layers.Conv2D(32,(3,3),activation='relu',input_shape=(32,256,2,3)),#batch size 32\n",
    "    layers.MaxPool2D(2),\n",
    "     layers.Conv2D(32,(3,3),activation='relu'),#32 came from trial and error\n",
    "    layers.MaxPool2D(2),\n",
    "     layers.Conv2D(32,(3,3),activation='relu'),\n",
    "    layers.MaxPool2D(2),\n",
    "     layers.Conv2D(32,(3,3),activation='relu'),\n",
    "    layers.MaxPool2D(2),\n",
    "    layers.Flatten(),\n",
    "    layers.Dense(128,activation='relu'),\n",
    "    layers.Dense(64,activation='relu'),\n",
    "    layers.Dense(100,activation='relu'),\n",
    "    layers.Dense(len(class_names),activation='softmax')\n",
    "])"
   ]
  },
  {
   "cell_type": "code",
   "execution_count": null,
   "metadata": {
    "execution": {
     "iopub.execute_input": "2024-06-25T16:35:40.516317Z",
     "iopub.status.busy": "2024-06-25T16:35:40.516054Z",
     "iopub.status.idle": "2024-06-25T16:35:40.585498Z",
     "shell.execute_reply": "2024-06-25T16:35:40.584829Z",
     "shell.execute_reply.started": "2024-06-25T16:35:40.516293Z"
    },
    "id": "WAq_MF3YSYIM"
   },
   "outputs": [],
   "source": [
    "model.build(input_shape=(32,256,256,3))"
   ]
  },
  {
   "cell_type": "code",
   "execution_count": null,
   "metadata": {
    "execution": {
     "iopub.execute_input": "2024-06-25T16:35:40.587272Z",
     "iopub.status.busy": "2024-06-25T16:35:40.586691Z",
     "iopub.status.idle": "2024-06-25T16:35:40.595151Z",
     "shell.execute_reply": "2024-06-25T16:35:40.594259Z",
     "shell.execute_reply.started": "2024-06-25T16:35:40.587241Z"
    },
    "id": "ya1opk6tSZ1G"
   },
   "outputs": [],
   "source": [
    "model.compile(\n",
    "    optimizer='adam',\n",
    "    loss=tf.keras.losses.SparseCategoricalCrossentropy(),\n",
    "    metrics=[\"accuracy\"]\n",
    ")"
   ]
  },
  {
   "cell_type": "code",
   "execution_count": null,
   "metadata": {
    "execution": {
     "iopub.execute_input": "2024-06-25T16:35:40.596644Z",
     "iopub.status.busy": "2024-06-25T16:35:40.596343Z",
     "iopub.status.idle": "2024-06-25T16:36:40.654326Z",
     "shell.execute_reply": "2024-06-25T16:36:40.653546Z",
     "shell.execute_reply.started": "2024-06-25T16:35:40.596622Z"
    },
    "id": "3L3aixBLSbHs",
    "outputId": "8cbf20f5-c244-4758-c973-0ab7f5db985c"
   },
   "outputs": [],
   "source": [
    "history=model.fit(train,epochs=20,batch_size=32,validation_data=valid)"
   ]
  },
  {
   "cell_type": "code",
   "execution_count": null,
   "metadata": {
    "execution": {
     "iopub.execute_input": "2024-06-25T16:36:40.655822Z",
     "iopub.status.busy": "2024-06-25T16:36:40.655550Z",
     "iopub.status.idle": "2024-06-25T16:36:41.637396Z",
     "shell.execute_reply": "2024-06-25T16:36:41.636405Z",
     "shell.execute_reply.started": "2024-06-25T16:36:40.655797Z"
    },
    "id": "ULXNHG3NYPrv"
   },
   "outputs": [],
   "source": [
    "model.evaluate(test)"
   ]
  },
  {
   "cell_type": "code",
   "execution_count": null,
   "metadata": {
    "execution": {
     "iopub.execute_input": "2024-06-25T16:36:41.639146Z",
     "iopub.status.busy": "2024-06-25T16:36:41.638724Z",
     "iopub.status.idle": "2024-06-25T16:36:42.131678Z",
     "shell.execute_reply": "2024-06-25T16:36:42.130828Z",
     "shell.execute_reply.started": "2024-06-25T16:36:41.639109Z"
    }
   },
   "outputs": [],
   "source": [
    "for batch,label in test.take(1) :\n",
    "    print(class_names[label[5]])\n",
    "    pred=model.predict(batch)\n",
    "    print(class_names[np.argmax(pred[5])])\n",
    "    plt.imshow(batch[5].numpy().astype(\"uint8\"))"
   ]
  },
  {
   "cell_type": "code",
   "execution_count": null,
   "metadata": {
    "execution": {
     "iopub.execute_input": "2024-06-25T16:36:42.133030Z",
     "iopub.status.busy": "2024-06-25T16:36:42.132726Z",
     "iopub.status.idle": "2024-06-25T16:36:42.150550Z",
     "shell.execute_reply": "2024-06-25T16:36:42.149738Z",
     "shell.execute_reply.started": "2024-06-25T16:36:42.133004Z"
    }
   },
   "outputs": [],
   "source": [
    "for i,l in test.take(1):\n",
    "    print(class_names[l[0]])\n",
    "    print()"
   ]
  },
  {
   "cell_type": "code",
   "execution_count": null,
   "metadata": {
    "execution": {
     "iopub.execute_input": "2024-06-25T16:36:42.151843Z",
     "iopub.status.busy": "2024-06-25T16:36:42.151579Z",
     "iopub.status.idle": "2024-06-25T16:36:42.156866Z",
     "shell.execute_reply": "2024-06-25T16:36:42.155937Z",
     "shell.execute_reply.started": "2024-06-25T16:36:42.151820Z"
    }
   },
   "outputs": [],
   "source": [
    "def predict(model,im):\n",
    "    pred=class_names[np.argmax(model.predict(tf.expand_dims(im,axis=0)))]\n",
    "    confidence=round(np.max(model.predict(tf.expand_dims(im,axis=0)))*100,2)\n",
    "    return pred,confidence"
   ]
  },
  {
   "cell_type": "code",
   "execution_count": null,
   "metadata": {
    "execution": {
     "iopub.execute_input": "2024-06-25T16:36:42.158424Z",
     "iopub.status.busy": "2024-06-25T16:36:42.158132Z",
     "iopub.status.idle": "2024-06-25T16:36:44.901514Z",
     "shell.execute_reply": "2024-06-25T16:36:44.900364Z",
     "shell.execute_reply.started": "2024-06-25T16:36:42.158401Z"
    }
   },
   "outputs": [],
   "source": [
    "\n",
    "plt.figure(figsize=(15, 15))\n",
    "for images, labels in test.take(1):\n",
    "    for i in range(9):\n",
    "        ax = plt.subplot(3, 3, i + 1)\n",
    "        plt.imshow(images[i].numpy().astype(\"uint8\"))\n",
    "        \n",
    "        predicted_class,c=predict(model,images[i])\n",
    "        actual_class = class_names[labels[i]] \n",
    "       \n",
    "        \n",
    "        plt.title(f\"Actual: {actual_class},\\n Predicted: {predicted_class}.\\n Confidence: {c}%\")\n",
    "        \n",
    "        plt.axis(\"off\")\n",
    "        "
   ]
  },
  {
   "cell_type": "code",
   "execution_count": null,
   "metadata": {
    "execution": {
     "iopub.execute_input": "2024-06-25T16:42:23.229888Z",
     "iopub.status.busy": "2024-06-25T16:42:23.229518Z",
     "iopub.status.idle": "2024-06-25T16:42:23.324522Z",
     "shell.execute_reply": "2024-06-25T16:42:23.323698Z",
     "shell.execute_reply.started": "2024-06-25T16:42:23.229847Z"
    }
   },
   "outputs": [],
   "source": [
    "d=r\"/kaggle/working/ayush.keras\"\n",
    "model.save(d)\n"
   ]
  },
  {
   "cell_type": "code",
   "execution_count": null,
   "metadata": {},
   "outputs": [],
   "source": []
  }
 ],
 "metadata": {
  "accelerator": "GPU",
  "colab": {
   "gpuType": "T4",
   "provenance": []
  },
  "kaggle": {
   "accelerator": "nvidiaTeslaT4",
   "dataSources": [
    {
     "datasetId": 5279544,
     "sourceId": 8782808,
     "sourceType": "datasetVersion"
    },
    {
     "datasetId": 5279867,
     "sourceId": 8783201,
     "sourceType": "datasetVersion"
    }
   ],
   "dockerImageVersionId": 30733,
   "isGpuEnabled": true,
   "isInternetEnabled": true,
   "language": "python",
   "sourceType": "notebook"
  },
  "kernelspec": {
   "display_name": "Python 3 (ipykernel)",
   "language": "python",
   "name": "python3"
  },
  "language_info": {
   "codemirror_mode": {
    "name": "ipython",
    "version": 3
   },
   "file_extension": ".py",
   "mimetype": "text/x-python",
   "name": "python",
   "nbconvert_exporter": "python",
   "pygments_lexer": "ipython3",
   "version": "3.11.7"
  }
 },
 "nbformat": 4,
 "nbformat_minor": 4
}
